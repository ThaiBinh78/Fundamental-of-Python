{
 "cells": [
  {
   "cell_type": "code",
   "execution_count": 5,
   "id": "b2aea1d2",
   "metadata": {},
   "outputs": [
    {
     "name": "stdout",
     "output_type": "stream",
     "text": [
      "<class 'dict'>\n"
     ]
    }
   ],
   "source": [
    "a = {\n",
    "  \"name\": \"Nguyen Van A\",\n",
    "  \"age\": 25,\n",
    "  \"skills\": [\"Python\", \"Java\", \"SQL\"]\n",
    "}\n",
    "print(type(a))\n",
    "\n"
   ]
  },
  {
   "cell_type": "code",
   "execution_count": 6,
   "id": "5c30cd25",
   "metadata": {},
   "outputs": [
    {
     "name": "stdout",
     "output_type": "stream",
     "text": [
      "{\n",
      "    \"name\": \"Nguyen Van A\",\n",
      "    \"age\": 25,\n",
      "    \"skills\": [\n",
      "        \"Python\",\n",
      "        \"Java\",\n",
      "        \"SQL\"\n",
      "    ]\n",
      "}\n"
     ]
    }
   ],
   "source": [
    "import json\n",
    "json_convert = json.dumps(a, indent=4)\n",
    "print(json_convert)"
   ]
  },
  {
   "cell_type": "code",
   "execution_count": 7,
   "id": "ffb9954e",
   "metadata": {},
   "outputs": [
    {
     "name": "stdout",
     "output_type": "stream",
     "text": [
      "<class 'str'>\n"
     ]
    }
   ],
   "source": [
    "print(type(json_convert))"
   ]
  }
 ],
 "metadata": {
  "kernelspec": {
   "display_name": "base",
   "language": "python",
   "name": "python3"
  },
  "language_info": {
   "codemirror_mode": {
    "name": "ipython",
    "version": 3
   },
   "file_extension": ".py",
   "mimetype": "text/x-python",
   "name": "python",
   "nbconvert_exporter": "python",
   "pygments_lexer": "ipython3",
   "version": "3.12.3"
  }
 },
 "nbformat": 4,
 "nbformat_minor": 5
}
